{
 "cells": [
  {
   "cell_type": "code",
   "execution_count": 1,
   "metadata": {},
   "outputs": [
    {
     "data": {
      "text/plain": [
       "Unnamed: 0                 int64\n",
       "Unnamed0                   int64\n",
       "job_title                 object\n",
       "company                   object\n",
       "rating                   float64\n",
       "exp_req                    int64\n",
       "salary                    object\n",
       "post_date                 object\n",
       "applicants                object\n",
       "role                      object\n",
       "industry_type             object\n",
       "department                object\n",
       "emp_type                  object\n",
       "role_category             object\n",
       "UG                        object\n",
       "key_skills                object\n",
       "location_preference_1     object\n",
       "location_preference_2     object\n",
       "dtype: object"
      ]
     },
     "execution_count": 1,
     "metadata": {},
     "output_type": "execute_result"
    }
   ],
   "source": [
    "import pandas as pd\n",
    "data = pd.read_csv(\"D:\\\\MY PROJECTS\\\\FINAL YEAR PROJECT\\\\PROJECT\\\\Pre_processed_data\\\\Cleaned_naukri.csv\")\n",
    "data.dtypes"
   ]
  }
 ],
 "metadata": {
  "kernelspec": {
   "display_name": "Python 3",
   "language": "python",
   "name": "python3"
  },
  "language_info": {
   "codemirror_mode": {
    "name": "ipython",
    "version": 3
   },
   "file_extension": ".py",
   "mimetype": "text/x-python",
   "name": "python",
   "nbconvert_exporter": "python",
   "pygments_lexer": "ipython3",
   "version": "3.7.0"
  },
  "orig_nbformat": 4
 },
 "nbformat": 4,
 "nbformat_minor": 2
}
